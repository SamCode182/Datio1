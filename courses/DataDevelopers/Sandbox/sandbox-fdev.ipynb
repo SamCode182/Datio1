{
 "cells": [
  {
   "cell_type": "code",
   "execution_count": 1,
   "metadata": {
    "deletable": false,
    "editable": false
   },
   "outputs": [],
   "source": [
    "import pyspark\n",
    "import pyspark.sql"
   ]
  },
  {
   "cell_type": "code",
   "execution_count": 2,
   "metadata": {
    "deletable": false,
    "editable": false
   },
   "outputs": [],
   "source": [
    "conf = pyspark.SparkConf().setAppName('JugandoASerBroker').setMaster('local[*]') #Creamos la configuración\n",
    "sc = pyspark.SparkContext(conf = conf) #Abrimos el contexto de Spark\n",
    "sparkSession = pyspark.sql.SparkSession(sc, jsparkSession=None)\n",
    "spark = sparkSession.builder.master(\"local\").appName(\"holi\")\\\n",
    "                    .config(\"spark.some.config.option\", \"some-value\").getOrCreate()"
   ]
  },
  {
   "cell_type": "code",
   "execution_count": 3,
   "metadata": {},
   "outputs": [],
   "source": [
    "prices = spark.read.format(\"parquet\").load(\"./data/master/prices\", header = True)"
   ]
  },
  {
   "cell_type": "code",
   "execution_count": 4,
   "metadata": {
    "scrolled": true
   },
   "outputs": [
    {
     "name": "stdout",
     "output_type": "stream",
     "text": [
      "root\n",
      " |-- date: string (nullable = true)\n",
      " |-- symbol: string (nullable = true)\n",
      " |-- open: string (nullable = true)\n",
      " |-- close: string (nullable = true)\n",
      " |-- low: string (nullable = true)\n",
      " |-- high: string (nullable = true)\n",
      " |-- volume: string (nullable = true)\n",
      "\n"
     ]
    }
   ],
   "source": [
    "prices.printSchema()"
   ]
  },
  {
   "cell_type": "code",
   "execution_count": 5,
   "metadata": {},
   "outputs": [
    {
     "data": {
      "text/plain": [
       "array(['SPGI', 'ALXN', 'GIS', 'K', 'LEN', 'AIV', 'AVY', 'MMM', 'PKI',\n",
       "       'PPG', 'RF', 'WEC', 'AXP', 'CI', 'IRM', 'PFG', 'PM', 'SNA', 'OXY',\n",
       "       'BLK', 'EA', 'ESRX', 'ULTA', 'DUK', 'MTD', 'TROW', 'HAS', 'FLIR',\n",
       "       'MAT', 'XL', 'EMN', 'KIM', 'EVHC', 'PNW', 'PRU', 'DGX', 'AAPL',\n",
       "       'TSN', 'ALL', 'CLX', 'CSCO', 'XOM', 'BMY', 'CMG', 'FRT', 'MCHP',\n",
       "       'YHOO', 'ADI', 'PHM', 'VNO', 'F', 'KORS', 'FTV', 'ROP', 'SYY',\n",
       "       'TEL', 'JNPR', 'RTN', 'AGN', 'CHRW', 'EQR', 'SPG', 'NUE', 'ZBH',\n",
       "       'FFIV', 'GILD', 'HOLX', 'NLSN', 'OKE', 'QCOM', 'AMGN', 'CCL',\n",
       "       'NOV', 'PNC', 'ANTM', 'MNST', 'NTRS', 'SCG', 'JPM', 'CINF', 'EOG',\n",
       "       'PVH', 'WFC', 'FTI', 'SYK', 'HSY', 'TWX', 'HAR', 'PRGO', 'DIS',\n",
       "       'HAL', 'MPC', 'MNK', 'CMS', 'DHR', 'GGP', 'BSX', 'KSU', 'MUR',\n",
       "       'NEM', 'T', 'UHS', 'XRX', 'ACN', 'COP', 'EXPE', 'LYB', 'MRK', 'SO',\n",
       "       'UDR', 'WU', 'AIG', 'INTC', 'LEG', 'NEE', 'AFL', 'EMR', 'PG',\n",
       "       'APH', 'DVN', 'HP', 'ROST', 'WY', 'WYN', 'EQIX', 'EXR', 'INTU',\n",
       "       'MCD', 'CTAS', 'DHI', 'AME', 'GPN', 'IFF', 'SWN', 'BDX', 'PAYX',\n",
       "       'ABBV', 'XEC', 'CSX', 'ADP', 'KMB', 'TMK', 'VZ', 'AAP', 'HES',\n",
       "       'KMX', 'LB', 'TDG', 'LVLT', 'VRTX', 'CERN', 'CL', 'ADM', 'FMC',\n",
       "       'AMT', 'DD', 'PNR', 'TXT', 'UNP', 'SHW', 'WMB', 'CA', 'DISCK',\n",
       "       'FLS', 'M', 'HCN', 'L', 'NRG', 'TRV', 'V', 'AVB', 'HRL', 'HUM',\n",
       "       'AIZ', 'COG', 'EIX', 'MKC', 'PGR', 'PFE', 'APC', 'FCX', 'FSLR',\n",
       "       'NFX', 'BBT', 'PCAR', 'COH', 'DVA', 'GOOG', 'GT', 'AES', 'DE',\n",
       "       'NFLX', 'TAP', 'FB', 'COST', 'MO', 'O', 'PCG', 'UNH', 'D', 'ES',\n",
       "       'IR', 'XYL', 'OMC', 'BXP', 'IBM', 'COF', 'LLL', 'BWA', 'CELG',\n",
       "       'ETFC', 'LKQ', 'JNJ', 'RHI', 'IVZ', 'TSCO', 'ALB', 'CAG', 'CVX',\n",
       "       'FOXA', 'PDCO', 'PLD', 'ISRG', 'C', 'CNP', 'KR', 'MMC', 'NSC',\n",
       "       'EXC', 'VMC', 'FISV', 'SNI', 'UAL', 'CHD', 'CXO', 'EXPD', 'GLW',\n",
       "       'JEC', 'LH', 'CMI', 'TGT', 'ATVI', 'AYI', 'SWK', 'TJX', 'KLAC',\n",
       "       'AEP', 'FTR', 'GM', 'PCLN', 'UNM', 'AWK', 'DTE', 'BK', 'DFS',\n",
       "       'NOC', 'ADS', 'FOX', 'ROK', 'FIS', 'ESS', 'PBI', 'KMI', 'HPE',\n",
       "       'TDC', 'A', 'DAL', 'GOOGL', 'LLTC', 'AON', 'BBY', 'TRIP', 'WRK',\n",
       "       'PX', 'SRCL', 'CCI', 'ITW', 'MAR', 'SWKS', 'RSG', 'WMT', 'LOW',\n",
       "       'NDAQ', 'SPLS', 'ADSK', 'DLPH', 'LRCX', 'MON', 'BAC', 'ICE', 'RCL',\n",
       "       'AAL', 'DISCA', 'DG', 'DPS', 'BA', 'DOW', 'FE', 'HCP', 'MTB',\n",
       "       'TGNA', 'APA', 'HSIC', 'WDC', 'BCR', 'CAH', 'FDX', 'TXN', 'HD',\n",
       "       'STX', 'AVGO', 'HRB', 'SCHW', 'XRAY', 'EQT', 'SE', 'UAA', 'AMAT',\n",
       "       'ETN', 'LMT', 'AMP', 'LUK', 'PH', 'R', 'RHT', 'EBAY', 'FITB',\n",
       "       'AET', 'EW', 'GE', 'IDXX', 'RL', 'TIF', 'LNT', 'PSA', 'SBUX',\n",
       "       'HPQ', 'VRSK', 'HBAN', 'MOS', 'MU', 'CNC', 'MJN', 'AMG', 'CTL',\n",
       "       'IPG', 'NWS', 'MAC', 'DLTR', 'GD', 'CTSH', 'KSS', 'CMCSA', 'ETR',\n",
       "       'MAS', 'KEY', 'ORLY', 'XLNX', 'COL', 'HBI', 'VIAB', 'JBHT', 'LNC',\n",
       "       'NTAP', 'BAX', 'PYPL', 'PEG', 'PXD', 'RRC', 'ABT', 'BBBY', 'CHK',\n",
       "       'ARNC', 'DLR', 'RIG', 'CAT', 'ORCL', 'PBCT', 'MLM', 'URI', 'ZTS',\n",
       "       'MHK', 'AJG', 'CB', 'PPL', 'REGN', 'NBL', 'SEE', 'SJM', 'JCI',\n",
       "       'HRS', 'SLB', 'STI', 'STZ', 'KHC', 'CPB', 'IP', 'NKE', 'LLY',\n",
       "       'ALLE', 'WBA', 'APD', 'NWSA', 'SYMC', 'VFC', 'FBHS', 'SRE', 'VTR',\n",
       "       'WAT', 'EFX', 'QRVO', 'UTX', 'GS', 'AKAM', 'EL', 'DNB', 'MA',\n",
       "       'WFM', 'ABC', 'FLR', 'NI', 'SIG', 'AN', 'NWL', 'VRSN', 'TSO',\n",
       "       'ZION', 'AZO', 'MET', 'GPS', 'HIG', 'MSI', 'SLG', 'AEE', 'BLL',\n",
       "       'CMA', 'DRI', 'FL', 'HOG', 'MCK', 'ALK', 'AMZN', 'MSFT', 'BIIB',\n",
       "       'SYF', 'USB', 'VAR', 'VLO', 'WM', 'PSX', 'MDLZ', 'DOV', 'HST',\n",
       "       'MAA', 'ED', 'HON', 'CRM', 'YUM', 'ADBE', 'BHI', 'COO', 'ECL',\n",
       "       'WLTW', 'MDT', 'MYL', 'WYNN', 'CF', 'FAST', 'RAI', 'CTXS', 'CFG',\n",
       "       'GRMN', 'JWN', 'MCO', 'PWR', 'UPS', 'GPC', 'NAVI', 'KO', 'WHR',\n",
       "       'PEP', 'CSRA', 'NVDA', 'TSS', 'GWW', 'ILMN', 'XEL', 'HCA', 'CME',\n",
       "       'URBN', 'CBS', 'CHTR', 'ENDP', 'COTY', 'BEN', 'CBG', 'LUV', 'CVS',\n",
       "       'MRO', 'STT', 'TMO'], dtype=object)"
      ]
     },
     "execution_count": 5,
     "metadata": {},
     "output_type": "execute_result"
    }
   ],
   "source": [
    "companies = prices.select(prices['symbol']).distinct().toPandas()\n",
    "companies['symbol'].values"
   ]
  },
  {
   "cell_type": "code",
   "execution_count": 6,
   "metadata": {
    "scrolled": true
   },
   "outputs": [
    {
     "name": "stdout",
     "output_type": "stream",
     "text": [
      "+----------+------+----------+----------+----------+----------+---------+\n",
      "|      date|symbol|      open|     close|       low|      high|   volume|\n",
      "+----------+------+----------+----------+----------+----------+---------+\n",
      "|2011-01-03| GOOGL|596.480018|604.350009|596.480018|605.589979|4725600.0|\n",
      "|2011-01-04| GOOGL|605.619978|602.120002| 600.11999|606.180025|3645300.0|\n",
      "|2011-01-05| GOOGL|600.069991|609.070016|600.049992|610.329985|5059500.0|\n",
      "+----------+------+----------+----------+----------+----------+---------+\n",
      "only showing top 3 rows\n",
      "\n"
     ]
    }
   ],
   "source": [
    "google = prices.filter(prices['symbol'] == \"GOOGL\")\n",
    "google.show(3)"
   ]
  },
  {
   "cell_type": "code",
   "execution_count": 7,
   "metadata": {},
   "outputs": [],
   "source": [
    "import pyspark.sql.functions as func"
   ]
  },
  {
   "cell_type": "code",
   "execution_count": 8,
   "metadata": {},
   "outputs": [
    {
     "name": "stdout",
     "output_type": "stream",
     "text": [
      "+----------+---------+\n",
      "|     fecha|   volume|\n",
      "+----------+---------+\n",
      "|2011-01-03|4725600.0|\n",
      "|2011-01-04|3645300.0|\n",
      "+----------+---------+\n",
      "only showing top 2 rows\n",
      "\n"
     ]
    }
   ],
   "source": [
    "googleVOL = google.select(func.to_date(google['date']).alias(\"fecha\"),\n",
    "                       google['volume'])\n",
    "googleVOL.show(2)"
   ]
  },
  {
   "cell_type": "code",
   "execution_count": 9,
   "metadata": {
    "scrolled": true
   },
   "outputs": [
    {
     "data": {
      "text/plain": [
       "Row(fecha=datetime.date(2011, 1, 3))"
      ]
     },
     "execution_count": 9,
     "metadata": {},
     "output_type": "execute_result"
    }
   ],
   "source": [
    "googleVOL.select(googleVOL['fecha']).first()"
   ]
  },
  {
   "cell_type": "code",
   "execution_count": 10,
   "metadata": {},
   "outputs": [],
   "source": [
    "import datetime\n",
    "date_from = datetime.datetime(2015, 9, 30)\n",
    "date_to = datetime.datetime(2015, 11, 1)"
   ]
  },
  {
   "cell_type": "code",
   "execution_count": 11,
   "metadata": {},
   "outputs": [
    {
     "name": "stdout",
     "output_type": "stream",
     "text": [
      "+----------+---------+\n",
      "|     fecha|   volume|\n",
      "+----------+---------+\n",
      "|2015-10-01|2125300.0|\n",
      "|2015-10-02|2439400.0|\n",
      "|2015-10-05|1898000.0|\n",
      "|2015-10-06|2138700.0|\n",
      "|2015-10-07|2217700.0|\n",
      "|2015-10-08|1965400.0|\n",
      "|2015-10-09|1606200.0|\n",
      "|2015-10-12|1334200.0|\n",
      "|2015-10-13|2122300.0|\n",
      "|2015-10-14|1564600.0|\n",
      "|2015-10-15|2357800.0|\n",
      "|2015-10-16|1815800.0|\n",
      "|2015-10-19|1508600.0|\n",
      "|2015-10-20|2613300.0|\n",
      "|2015-10-21|1597600.0|\n",
      "|2015-10-22|4431600.0|\n",
      "|2015-10-23|6336300.0|\n",
      "|2015-10-26|2438800.0|\n",
      "|2015-10-27|1938900.0|\n",
      "|2015-10-28|1980200.0|\n",
      "+----------+---------+\n",
      "only showing top 20 rows\n",
      "\n"
     ]
    }
   ],
   "source": [
    "googOCT15 = googleVOL.filter((googleVOL['fecha'] > date_from)).filter((googleVOL['fecha'] < date_to))\n",
    "googOCT15.show(20)"
   ]
  },
  {
   "cell_type": "code",
   "execution_count": 12,
   "metadata": {},
   "outputs": [],
   "source": [
    "prices.createOrReplaceTempView(\"prices\")"
   ]
  },
  {
   "cell_type": "code",
   "execution_count": 13,
   "metadata": {},
   "outputs": [
    {
     "name": "stdout",
     "output_type": "stream",
     "text": [
      "+----------+-----+\n",
      "|      date|close|\n",
      "+----------+-----+\n",
      "|2011-01-03|10.65|\n",
      "|2011-01-04|10.62|\n",
      "|2011-01-05| 11.1|\n",
      "|2011-01-06|11.24|\n",
      "|2011-01-07| 11.4|\n",
      "|2011-01-10|11.47|\n",
      "|2011-01-11|10.97|\n",
      "|2011-01-12|10.88|\n",
      "|2011-01-13|10.89|\n",
      "|2011-01-14|10.79|\n",
      "+----------+-----+\n",
      "only showing top 10 rows\n",
      "\n"
     ]
    }
   ],
   "source": [
    "stock = spark.sql(\"SELECT date, close FROM prices WHERE symbol LIKE 'AAL' LIMIT 30\")\n",
    "stock.show(10)"
   ]
  },
  {
   "cell_type": "code",
   "execution_count": 14,
   "metadata": {},
   "outputs": [],
   "source": [
    "sc.stop()"
   ]
  }
 ],
 "metadata": {
  "kernelspec": {
   "display_name": "Python 3",
   "language": "python",
   "name": "python3"
  },
  "language_info": {
   "codemirror_mode": {
    "name": "ipython",
    "version": 3
   },
   "file_extension": ".py",
   "mimetype": "text/x-python",
   "name": "python",
   "nbconvert_exporter": "python",
   "pygments_lexer": "ipython3",
   "version": "3.5.2"
  }
 },
 "nbformat": 4,
 "nbformat_minor": 2
}
