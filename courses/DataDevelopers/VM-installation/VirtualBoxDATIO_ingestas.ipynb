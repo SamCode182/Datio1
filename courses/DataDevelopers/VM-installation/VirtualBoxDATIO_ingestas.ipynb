{
 "cells": [
  {
   "cell_type": "markdown",
   "metadata": {
    "deletable": false,
    "editable": false,
    "run_control": {
     "frozen": true
    }
   },
   "source": [
    "<img src=\"./static/BBVA.png\" alt=\"datio\" style=\"width: 200px \"align=\"right\"/><img src=\"./static/DATIO.png\" alt=\"datio\" style=\"width: 200px \"align=\"left\"/>"
   ]
  },
  {
   "cell_type": "markdown",
   "metadata": {
    "deletable": false,
    "editable": false,
    "run_control": {
     "frozen": true
    }
   },
   "source": [
    "# Installation Guide: Ubuntu Machine for Data Developers course\n",
    "\n",
    "In this course we are going to use software pieces created by DATIO developers, which are easier to run in Ubuntu machines.  \n",
    "For this reason, we provide a virtual image, which you can find it [**here**](https://drive.google.com/drive/folders/1fzxp2pFmKZv5PT7fl1318wI0ZwnoNZYH?usp=sharing)."
   ]
  },
  {
   "cell_type": "markdown",
   "metadata": {
    "deletable": false,
    "editable": false,
    "run_control": {
     "frozen": true
    }
   },
   "source": [
    "## 1. Install VMware Workstation\n",
    "\n",
    "In your **BBVA Software Centre** you can find an application called **VMware workstation**. Please, install it and go to the next step.\n",
    "<img src=\"./static/VMware.png\" alt=\"vmware\" style=\"width: 100px \"align=\"center\"/>"
   ]
  },
  {
   "cell_type": "markdown",
   "metadata": {
    "deletable": false,
    "editable": false,
    "run_control": {
     "frozen": true
    }
   },
   "source": [
    "## 2. Import DATIO-ingestion image\n",
    "\n",
    "After you have downloaded the [**formacion_ingestas.ova**](https://drive.google.com/drive/folders/1fzxp2pFmKZv5PT7fl1318wI0ZwnoNZYH?usp=sharing) file and have installed **VMware workstation**, you are now ready to import the virtual machine in your computer.\n",
    "* First of all, **open VMware workstation**, and click on **File** menu.\n",
    "* Click **Open...**, a new window will show up.\n",
    "* Search for the **formacion_ingestas.ova** virtual machine, and **open** it.\n",
    "* Finally, VMware will ask you if you would like to retry the **import** because it failed due to an OVF specification issue. Click **Retry** and the import will start.  \n",
    "\n",
    "<img src=\"./static/importmachine.gif\">\n",
    "  \n",
    "  \n",
    "Once the virtual machine is imported in the workstation, it should appear in **> My Computer** tab like this.\n",
    "  \n",
    "<img src=\"./static/machineoff.png\">"
   ]
  },
  {
   "cell_type": "markdown",
   "metadata": {
    "deletable": false,
    "editable": false,
    "run_control": {
     "frozen": true
    }
   },
   "source": [
    "## 3. Start up virtual machine\n",
    "\n",
    "We are almost finished! Now we have to start up the virtual machine. To do that follow the steps bellow.  \n",
    "* **Right-click** on the **formacion_ingestas** tab, a dropdown menu will appear.\n",
    "* Click on **Power** tab\n",
    "* And finally, press **Start Up Guest** option.\n",
    "  \n",
    "![startup](./static/startup.gif)  \n",
    "  \n",
    "Once the virtual machine is starting up, its icon will now show like this.\n",
    "  \n",
    "<img src=\"./static/machineon.png\">"
   ]
  },
  {
   "cell_type": "markdown",
   "metadata": {
    "deletable": false,
    "editable": false,
    "run_control": {
     "frozen": true
    }
   },
   "source": [
    "## 4. Log in in the formacion_ingestas machine\n",
    "\n",
    "Now that we are inside the virtual machine, it will ask you to log in with the **academy user**.\n",
    "\n",
    "The password is **academy**. Enter it, and **Sign in**.  \n",
    "\n",
    "<img src=\"./static/login.png\">"
   ]
  },
  {
   "cell_type": "markdown",
   "metadata": {
    "deletable": false,
    "editable": false,
    "run_control": {
     "frozen": true
    }
   },
   "source": [
    "#### In your desktop you can find a README file, please do not be a lazy person and READ IT!!"
   ]
  }
 ],
 "metadata": {
  "kernelspec": {
   "display_name": "Python 3",
   "language": "python",
   "name": "python3"
  },
  "language_info": {
   "codemirror_mode": {
    "name": "ipython",
    "version": 3
   },
   "file_extension": ".py",
   "mimetype": "text/x-python",
   "name": "python",
   "nbconvert_exporter": "python",
   "pygments_lexer": "ipython3",
   "version": "3.5.2"
  }
 },
 "nbformat": 4,
 "nbformat_minor": 2
}
