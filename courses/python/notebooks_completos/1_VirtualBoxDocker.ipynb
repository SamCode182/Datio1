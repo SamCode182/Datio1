{
 "cells": [
  {
   "cell_type": "markdown",
   "metadata": {},
   "source": [
    "<img src=\"../static/logo.png\" alt=\"datio\" style=\"width: 200px \"align=\"right\"/>"
   ]
  },
  {
   "cell_type": "markdown",
   "metadata": {},
   "source": [
    "# Manual de instalación del entorno de trabajo desde VirtualBox"
   ]
  },
  {
   "cell_type": "markdown",
   "metadata": {},
   "source": [
    "Los pasos a llevar a cabo para tener disponible el Notebook de la formación de Datio, son los siguientes:<br/>"
   ]
  },
  {
   "cell_type": "markdown",
   "metadata": {},
   "source": [
    "## Importar Imagen"
   ]
  },
  {
   "cell_type": "markdown",
   "metadata": {},
   "source": [
    "#### Prerrequisito: [VirtualBox](https://www.virtualbox.org/wiki/Downloads/) instalado"
   ]
  },
  {
   "cell_type": "markdown",
   "metadata": {},
   "source": [
    "Para llevar a cabo la importación de la [máquina virtual](https://www.google.com/url?q=https://drive.google.com/drive/folders/175Er4cu89NIyBxawFuiDvrgi_Vmxh5Ti?usp%3Dsharing&sa=D) que contiene los contenedores, bastará con abrir el programa VirtualBox y desde el menú principal, seleccionar la siguiente opción:<br/>\n",
    "** Archivo -> Importar servicio virtualizado **<br/>\n",
    "<br>\n",
    "En ese momento aparece una pantalla con el título \"servicio a importar\".<br/>\n",
    "Para ello, se pulsa en el icono inmediatamente a la derecha del campo de entrada de esa ventana.\n",
    "Una vez hecho click, se abre una carpeta que permite seleccionar el fichero .ova que contiene la máquina virtual preparada para el curso.<br/>\n",
    "Con la ruta del fichero seleccionada, bastará con seleccionar la opción **\"siguiente\"** (o \"next\").<br/>\n",
    "Tras ello, se clica en la opción **\"importar\"**.<br/>"
   ]
  },
  {
   "cell_type": "markdown",
   "metadata": {},
   "source": [
    "<img src=\"../static/importImage.gif\">"
   ]
  },
  {
   "cell_type": "markdown",
   "metadata": {},
   "source": [
    "Una vez importada la imagen, se crea un icono de forma automática en la ventana de virtualbox.<br/>\n",
    "En su estado inicial, aparece como \"apagada\""
   ]
  },
  {
   "cell_type": "markdown",
   "metadata": {},
   "source": [
    "<img src=\"../static/centosoff.png\">"
   ]
  },
  {
   "cell_type": "markdown",
   "metadata": {},
   "source": [
    "## Iniciar Máquina Virtual"
   ]
  },
  {
   "cell_type": "markdown",
   "metadata": {},
   "source": [
    "Una vez se ha importado la imagen, aparece en el menú lateral izquierdo de Virtual Box, con el nombre del archivo (en este caso centos).<br/>\n",
    "Estando seleccionada esa imagen (aparece iniclamente como apagada), se pulsa la opción **mostrar**(representada por una flecha verde). También se puede iniciar la máquina pulsando dos veces el icono que representa a la máquina virtual (mostrado previamente).<br/>\n",
    "Una vez iniciada la máquina virtual, se abre una ventana que inicia el sistema operativo centos, hasta acabar en una pantalla de login."
   ]
  },
  {
   "cell_type": "markdown",
   "metadata": {},
   "source": [
    "En el momento que se inicia la máquina virtual, se obserará un cambio en el estado del icono que representa a la imagen, pasando de \"apagado\" a \"corriendo\" (o \"running\")."
   ]
  },
  {
   "cell_type": "markdown",
   "metadata": {},
   "source": [
    "<img src=\"../static/centoson.png\">"
   ]
  },
  {
   "cell_type": "markdown",
   "metadata": {},
   "source": [
    "<img src=\"../static/initimage.gif\">"
   ]
  },
  {
   "cell_type": "markdown",
   "metadata": {},
   "source": [
    "# Configuración de la máquina virtual (Acceso y requisitos hardware)\n",
    "\n",
    "### USER: datio\n",
    "### PASSWORD: datio1234\n",
    "  \n",
    "## La máquina está configurada con 2 cores y 2GB RAM."
   ]
  }
 ],
 "metadata": {
  "kernelspec": {
   "display_name": "Python 2",
   "language": "python",
   "name": "python2"
  },
  "language_info": {
   "codemirror_mode": {
    "name": "ipython",
    "version": 2
   },
   "file_extension": ".py",
   "mimetype": "text/x-python",
   "name": "python",
   "nbconvert_exporter": "python",
   "pygments_lexer": "ipython2",
   "version": "2.7.12"
  }
 },
 "nbformat": 4,
 "nbformat_minor": 2
}
