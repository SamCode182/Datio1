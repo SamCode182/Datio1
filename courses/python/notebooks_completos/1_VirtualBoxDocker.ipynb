{
 "cells": [
  {
   "cell_type": "markdown",
   "metadata": {},
   "source": [
    "<img src=\"../static/logo.png\" alt=\"datio\" style=\"width: 200px \"align=\"right\"/>"
   ]
  },
  {
   "cell_type": "markdown",
   "metadata": {},
   "source": [
    "# Manual de instalación del entorno de trabajo desde VirtualBox"
   ]
  },
  {
   "cell_type": "markdown",
   "metadata": {},
   "source": [
    "Los pasos a llevar a cabo para tener disponible el Notebook de la formación de Datio, son los siguientes:<br/>"
   ]
  },
  {
   "cell_type": "markdown",
   "metadata": {},
   "source": [
    "## Importar Imagen"
   ]
  },
  {
   "cell_type": "markdown",
   "metadata": {},
   "source": [
    "#### Prerrequisito: [VirtualBox](https://www.virtualbox.org/wiki/Downloads/) instalado"
   ]
  },
  {
   "cell_type": "markdown",
   "metadata": {},
   "source": [
    "Para llevar a cabo la importación de la [máquina virtual](https://drive.google.com/open?id=0B3-9-Qlc4r7EeG9xeGlpcDlnVk0) que contiene los contenedores, bastará con abrir el programa VirtualBox y desde el menú principal, seleccionar la siguiente opción:<br/>\n",
    "** Archivo -> Importar servicio virtualizado **<br/>\n",
    "<br>\n",
    "En ese momento aparece una pantalla con el título \"servicio a importar\".<br/>\n",
    "Para ello, se pulsa en el icono inmediatamente a la derecha del campo de entrada de esa ventana.\n",
    "Una vez hecho click, se abre una carpeta que permite seleccionar el fichero .ova que contiene la máquina virtual preparada para el curso.<br/>\n",
    "Con la ruta del fichero seleccionada, bastará con seleccionar la opción **\"siguiente\"** (o \"next\").<br/>\n",
    "Tras ello, se clica en la opción **\"importar\"**.<br/>"
   ]
  },
  {
   "cell_type": "markdown",
   "metadata": {},
   "source": [
    "<img src=\"../static/importImage.gif\">"
   ]
  },
  {
   "cell_type": "markdown",
   "metadata": {},
   "source": [
    "Una vez importada la imagen, se crea un icono de forma automática en la ventana de virtualbox.<br/>\n",
    "En su estado inicial, aparece como \"apagada\""
   ]
  },
  {
   "cell_type": "markdown",
   "metadata": {},
   "source": [
    "<img src=\"../static/centosoff.png\">"
   ]
  },
  {
   "cell_type": "markdown",
   "metadata": {},
   "source": [
    "## Iniciar Máquina Virtual"
   ]
  },
  {
   "cell_type": "markdown",
   "metadata": {},
   "source": [
    "Una vez se ha importado la imagen, aparece en el menú lateral izquierdo de Virtual Box, con el nombre del archivo (en este caso centos).<br/>\n",
    "Estando seleccionada esa imagen (aparece iniclamente como apagada), se pulsa la opción **mostrar**(representada por una flecha verde). También se puede iniciar la máquina pulsando dos veces el icono que representa a la máquina virtual (mostrado previamente).<br/>\n",
    "Una vez iniciada la máquina virtual, se abre una ventana que inicia el sistema operativo centos, hasta acabar en una pantalla de login."
   ]
  },
  {
   "cell_type": "markdown",
   "metadata": {},
   "source": [
    "En el momento que se inicia la máquina virtual, se obserará un cambio en el estado del icono que representa a la imagen, pasando de \"apagado\" a \"corriendo\" (o \"running\")."
   ]
  },
  {
   "cell_type": "markdown",
   "metadata": {},
   "source": [
    "<img src=\"../static/centoson.png\">"
   ]
  },
  {
   "cell_type": "markdown",
   "metadata": {},
   "source": [
    "<img src=\"../static/initimage.gif\">"
   ]
  },
  {
   "cell_type": "markdown",
   "metadata": {},
   "source": [
    "## Lanzar contenedor Docker"
   ]
  },
  {
   "cell_type": "markdown",
   "metadata": {},
   "source": [
    "Una vez, aparece la pantalla de login. Hay que llevar a cabo los siguientes pasos:<br/>\n",
    "* Autenticarse\n",
    "* Bajar el material de formación\n",
    "* Crear el contenedor Docker con el entorno de trabajo (Notebook)"
   ]
  },
  {
   "cell_type": "markdown",
   "metadata": {},
   "source": [
    "El primer punto (autenticación) se lleva a cabo con las credenciales root/datio (usuario/password). <br/>\n",
    "Los dos siguientes, se llevan acabo dentro del script **start_notebook.sh**.<br/>\n",
    "Este script, baja la información del repositorio de github y ejecuta la llamada a docker que baja la imagen existente en el siguiente [repositorio público](https://hub.docker.com/r/jupyter/all-spark-notebook/) que contiene el entorno de trabajo. <br/>\n",
    "Para ejecutarlo, bastará simplemente con introducir el mandato: **sh start_notebook.sh** desde el directorio al que se llega tras autenticarse (/root)"
   ]
  },
  {
   "cell_type": "markdown",
   "metadata": {},
   "source": [
    "<img src=\"../static/startnotebook.gif\">"
   ]
  },
  {
   "cell_type": "markdown",
   "metadata": {},
   "source": [
    "## Acceso al Notebook"
   ]
  },
  {
   "cell_type": "markdown",
   "metadata": {},
   "source": [
    "Este proceso se encarga de bajar del repositorio jupyter/all-star-notebook, monta el material de curso en la página de inicio del notebook y al acabar mostrará un mensaje parecido a este:<br/>\n",
    "\n",
    "**Digest: sha256:724a2c422278700209d78338f3b038c53265c47d89d1248edeb5e8272bd6b6e5<br/>\n",
    "Status: Downloaded newer image for jupyter/all-spark-notebook:latest<br/>\n",
    "32836004f65f6c460ce3e18891b10b223392a8ee5dd2605bf53f1ec3be1f3c7f**<br/><br/>\n",
    "En ese momento, el entorno de trabajo ya está preparado.<br/>\n",
    "Para acceder a él, solo es necesario abrir un navegador e introducir la siguiente url: <br/>\n",
    "http://localhost:8888"
   ]
  },
  {
   "cell_type": "markdown",
   "metadata": {},
   "source": [
    "<img src=\"../static/notebook.gif\">"
   ]
  }
 ],
 "metadata": {
  "kernelspec": {
   "display_name": "Python 3",
   "language": "python",
   "name": "python3"
  },
  "language_info": {
   "codemirror_mode": {
    "name": "ipython",
    "version": 3
   },
   "file_extension": ".py",
   "mimetype": "text/x-python",
   "name": "python",
   "nbconvert_exporter": "python",
   "pygments_lexer": "ipython3",
   "version": "3.5.2"
  }
 },
 "nbformat": 4,
 "nbformat_minor": 2
}
